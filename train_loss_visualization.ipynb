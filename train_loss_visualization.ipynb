{
 "cells": [
  {
   "cell_type": "code",
   "execution_count": null,
   "metadata": {},
   "outputs": [],
   "source": [
    "import pandas as pd\n",
    "import numpy as np\n",
    "import matplotlib.pyplot as plt\n",
    "#%matplotlib inline\n",
    " \n",
    "lines =5124    #改为自己生成的train_log_loss.txt中的行数\n",
    "result = pd.read_csv('train_log_loss.txt', skiprows=[x for x in range(lines) if ((x%10!=9) |(x<1000))] ,error_bad_lines=False, names=['loss', 'avg', 'rate', 'seconds', 'images'])\n",
    "result.head()\n",
    " \n",
    "result['loss']=result['loss'].str.split(' ').str.get(1)\n",
    "result['avg']=result['avg'].str.split(' ').str.get(1)\n",
    "result['rate']=result['rate'].str.split(' ').str.get(1)\n",
    "result['seconds']=result['seconds'].str.split(' ').str.get(1)\n",
    "result['images']=result['images'].str.split(' ').str.get(1)\n",
    "result.head()\n",
    "result.tail()\n",
    " \n",
    "# print(result.head())\n",
    "# print(result.tail())\n",
    "# print(result.dtypes)\n",
    " \n",
    "print(result['loss'])\n",
    "print(result['avg'])\n",
    "print(result['rate'])\n",
    "print(result['seconds'])\n",
    "print(result['images'])\n",
    " \n",
    "result['loss']=pd.to_numeric(result['loss'])\n",
    "result['avg']=pd.to_numeric(result['avg'])\n",
    "result['rate']=pd.to_numeric(result['rate'])\n",
    "result['seconds']=pd.to_numeric(result['seconds'])\n",
    "result['images']=pd.to_numeric(result['images'])\n",
    "result.dtypes\n",
    " \n",
    " \n",
    "fig = plt.figure()\n",
    "ax = fig.add_subplot(1, 1, 1)\n",
    "ax.plot(result['avg'].values,label='avg_loss')\n",
    "# ax.plot(result['loss'].values,label='loss')\n",
    "ax.legend(loc='best')  #图列自适应位置\n",
    "ax.set_title('The loss curves')\n",
    "ax.set_xlabel('batches')\n",
    "fig.savefig('avg_loss')\n"
   ]
  }
 ],
 "metadata": {
  "kernelspec": {
   "display_name": "Python 3",
   "language": "python",
   "name": "python3"
  },
  "language_info": {
   "codemirror_mode": {
    "name": "ipython",
    "version": 3
   },
   "file_extension": ".py",
   "mimetype": "text/x-python",
   "name": "python",
   "nbconvert_exporter": "python",
   "pygments_lexer": "ipython3",
   "version": "3.8.5"
  }
 },
 "nbformat": 4,
 "nbformat_minor": 4
}
